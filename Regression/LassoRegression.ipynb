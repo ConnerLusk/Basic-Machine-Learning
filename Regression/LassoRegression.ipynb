{
 "cells": [
  {
   "cell_type": "markdown",
   "id": "e97209c3",
   "metadata": {},
   "source": [
    "# Import Libraries"
   ]
  },
  {
   "cell_type": "code",
   "execution_count": 1,
   "id": "92bc30ba",
   "metadata": {},
   "outputs": [],
   "source": [
    "# perform standard imports\n",
    "import numpy as np\n",
    "import pandas as pd\n",
    "from sklearn.pipeline import Pipeline\n",
    "from sklearn.preprocessing import StandardScaler, scale\n",
    "from sklearn.linear_model import Ridge, RidgeCV, Lasso, LassoCV\n",
    "from sklearn.model_selection import cross_validate\n",
    "from sklearn.model_selection import KFold\n",
    "from sklearn.model_selection import cross_val_score\n",
    "from matplotlib import pyplot as plt\n",
    "from operator import itemgetter\n",
    "import seaborn as sns\n",
    "%matplotlib inline\n",
    "plt.style.use('ggplot')"
   ]
  },
  {
   "cell_type": "markdown",
   "id": "8bb7d545",
   "metadata": {},
   "source": [
    "# Clean Data"
   ]
  },
  {
   "cell_type": "code",
   "execution_count": 2,
   "id": "e45763fa",
   "metadata": {},
   "outputs": [
    {
     "data": {
      "text/html": [
       "<div>\n",
       "<style scoped>\n",
       "    .dataframe tbody tr th:only-of-type {\n",
       "        vertical-align: middle;\n",
       "    }\n",
       "\n",
       "    .dataframe tbody tr th {\n",
       "        vertical-align: top;\n",
       "    }\n",
       "\n",
       "    .dataframe thead th {\n",
       "        text-align: right;\n",
       "    }\n",
       "</style>\n",
       "<table border=\"1\" class=\"dataframe\">\n",
       "  <thead>\n",
       "    <tr style=\"text-align: right;\">\n",
       "      <th></th>\n",
       "      <th>Id</th>\n",
       "      <th>MSSubClass</th>\n",
       "      <th>LotFrontage</th>\n",
       "      <th>LotArea</th>\n",
       "      <th>OverallQual</th>\n",
       "      <th>OverallCond</th>\n",
       "      <th>YearBuilt</th>\n",
       "      <th>YearRemodAdd</th>\n",
       "      <th>MasVnrArea</th>\n",
       "      <th>BsmtFinSF1</th>\n",
       "      <th>...</th>\n",
       "      <th>SaleType_ConLw</th>\n",
       "      <th>SaleType_New</th>\n",
       "      <th>SaleType_Oth</th>\n",
       "      <th>SaleType_WD</th>\n",
       "      <th>SaleCondition_Abnorml</th>\n",
       "      <th>SaleCondition_AdjLand</th>\n",
       "      <th>SaleCondition_Alloca</th>\n",
       "      <th>SaleCondition_Family</th>\n",
       "      <th>SaleCondition_Normal</th>\n",
       "      <th>SaleCondition_Partial</th>\n",
       "    </tr>\n",
       "  </thead>\n",
       "  <tbody>\n",
       "    <tr>\n",
       "      <th>0</th>\n",
       "      <td>1</td>\n",
       "      <td>60</td>\n",
       "      <td>65.0</td>\n",
       "      <td>8450</td>\n",
       "      <td>7</td>\n",
       "      <td>5</td>\n",
       "      <td>2003</td>\n",
       "      <td>2003</td>\n",
       "      <td>196.0</td>\n",
       "      <td>706</td>\n",
       "      <td>...</td>\n",
       "      <td>0</td>\n",
       "      <td>0</td>\n",
       "      <td>0</td>\n",
       "      <td>1</td>\n",
       "      <td>0</td>\n",
       "      <td>0</td>\n",
       "      <td>0</td>\n",
       "      <td>0</td>\n",
       "      <td>1</td>\n",
       "      <td>0</td>\n",
       "    </tr>\n",
       "    <tr>\n",
       "      <th>1</th>\n",
       "      <td>2</td>\n",
       "      <td>20</td>\n",
       "      <td>80.0</td>\n",
       "      <td>9600</td>\n",
       "      <td>6</td>\n",
       "      <td>8</td>\n",
       "      <td>1976</td>\n",
       "      <td>1976</td>\n",
       "      <td>0.0</td>\n",
       "      <td>978</td>\n",
       "      <td>...</td>\n",
       "      <td>0</td>\n",
       "      <td>0</td>\n",
       "      <td>0</td>\n",
       "      <td>1</td>\n",
       "      <td>0</td>\n",
       "      <td>0</td>\n",
       "      <td>0</td>\n",
       "      <td>0</td>\n",
       "      <td>1</td>\n",
       "      <td>0</td>\n",
       "    </tr>\n",
       "    <tr>\n",
       "      <th>2</th>\n",
       "      <td>3</td>\n",
       "      <td>60</td>\n",
       "      <td>68.0</td>\n",
       "      <td>11250</td>\n",
       "      <td>7</td>\n",
       "      <td>5</td>\n",
       "      <td>2001</td>\n",
       "      <td>2002</td>\n",
       "      <td>162.0</td>\n",
       "      <td>486</td>\n",
       "      <td>...</td>\n",
       "      <td>0</td>\n",
       "      <td>0</td>\n",
       "      <td>0</td>\n",
       "      <td>1</td>\n",
       "      <td>0</td>\n",
       "      <td>0</td>\n",
       "      <td>0</td>\n",
       "      <td>0</td>\n",
       "      <td>1</td>\n",
       "      <td>0</td>\n",
       "    </tr>\n",
       "    <tr>\n",
       "      <th>3</th>\n",
       "      <td>4</td>\n",
       "      <td>70</td>\n",
       "      <td>60.0</td>\n",
       "      <td>9550</td>\n",
       "      <td>7</td>\n",
       "      <td>5</td>\n",
       "      <td>1915</td>\n",
       "      <td>1970</td>\n",
       "      <td>0.0</td>\n",
       "      <td>216</td>\n",
       "      <td>...</td>\n",
       "      <td>0</td>\n",
       "      <td>0</td>\n",
       "      <td>0</td>\n",
       "      <td>1</td>\n",
       "      <td>1</td>\n",
       "      <td>0</td>\n",
       "      <td>0</td>\n",
       "      <td>0</td>\n",
       "      <td>0</td>\n",
       "      <td>0</td>\n",
       "    </tr>\n",
       "    <tr>\n",
       "      <th>4</th>\n",
       "      <td>5</td>\n",
       "      <td>60</td>\n",
       "      <td>84.0</td>\n",
       "      <td>14260</td>\n",
       "      <td>8</td>\n",
       "      <td>5</td>\n",
       "      <td>2000</td>\n",
       "      <td>2000</td>\n",
       "      <td>350.0</td>\n",
       "      <td>655</td>\n",
       "      <td>...</td>\n",
       "      <td>0</td>\n",
       "      <td>0</td>\n",
       "      <td>0</td>\n",
       "      <td>1</td>\n",
       "      <td>0</td>\n",
       "      <td>0</td>\n",
       "      <td>0</td>\n",
       "      <td>0</td>\n",
       "      <td>1</td>\n",
       "      <td>0</td>\n",
       "    </tr>\n",
       "  </tbody>\n",
       "</table>\n",
       "<p>5 rows × 306 columns</p>\n",
       "</div>"
      ],
      "text/plain": [
       "   Id  MSSubClass  LotFrontage  LotArea  OverallQual  OverallCond  YearBuilt  \\\n",
       "0   1          60         65.0     8450            7            5       2003   \n",
       "1   2          20         80.0     9600            6            8       1976   \n",
       "2   3          60         68.0    11250            7            5       2001   \n",
       "3   4          70         60.0     9550            7            5       1915   \n",
       "4   5          60         84.0    14260            8            5       2000   \n",
       "\n",
       "   YearRemodAdd  MasVnrArea  BsmtFinSF1  ...  SaleType_ConLw  SaleType_New  \\\n",
       "0          2003       196.0         706  ...               0             0   \n",
       "1          1976         0.0         978  ...               0             0   \n",
       "2          2002       162.0         486  ...               0             0   \n",
       "3          1970         0.0         216  ...               0             0   \n",
       "4          2000       350.0         655  ...               0             0   \n",
       "\n",
       "   SaleType_Oth  SaleType_WD  SaleCondition_Abnorml  SaleCondition_AdjLand  \\\n",
       "0             0            1                      0                      0   \n",
       "1             0            1                      0                      0   \n",
       "2             0            1                      0                      0   \n",
       "3             0            1                      1                      0   \n",
       "4             0            1                      0                      0   \n",
       "\n",
       "   SaleCondition_Alloca  SaleCondition_Family  SaleCondition_Normal  \\\n",
       "0                     0                     0                     1   \n",
       "1                     0                     0                     1   \n",
       "2                     0                     0                     1   \n",
       "3                     0                     0                     0   \n",
       "4                     0                     0                     1   \n",
       "\n",
       "   SaleCondition_Partial  \n",
       "0                      0  \n",
       "1                      0  \n",
       "2                      0  \n",
       "3                      0  \n",
       "4                      0  \n",
       "\n",
       "[5 rows x 306 columns]"
      ]
     },
     "execution_count": 2,
     "metadata": {},
     "output_type": "execute_result"
    }
   ],
   "source": [
    "#chnages all nan to 0's\n",
    "housingData = pd.read_csv(\"Amestrain.csv\", error_bad_lines=False).fillna(0)\n",
    "numericalData = housingData.select_dtypes(include=['int64','float64'])\n",
    "numericalHeaders = list(numericalData)\n",
    "nonNumericalData = housingData.drop(numericalHeaders, axis=1)\n",
    "nonNumericalDataHeaders = list(nonNumericalData)\n",
    "dummies = pd.get_dummies(housingData[nonNumericalDataHeaders])\n",
    "housingData = housingData.drop(nonNumericalData, axis=1)\n",
    "housingData = pd.concat([housingData,dummies],axis=1)\n",
    "housingData.head()"
   ]
  },
  {
   "cell_type": "markdown",
   "id": "861ad245",
   "metadata": {},
   "source": [
    "# Correlation"
   ]
  },
  {
   "cell_type": "code",
   "execution_count": 3,
   "id": "de879a64",
   "metadata": {},
   "outputs": [],
   "source": [
    "correlationMatrix = housingData.corr()\n",
    "priceCorrelation = correlationMatrix['SalePrice']\n",
    "# Gathering terms with correlation greater than .4\n",
    "filtCorr = priceCorrelation > .4\n",
    "filtData = priceCorrelation[filtCorr]"
   ]
  },
  {
   "cell_type": "code",
   "execution_count": 4,
   "id": "34464cc8",
   "metadata": {},
   "outputs": [],
   "source": [
    "#get list of items\n",
    "corrData = []\n",
    "for row in filtData.index:\n",
    "    corrData.append(row)\n",
    "    \n",
    "# create data frame with correlated data\n",
    "Xcorr = housingData[corrData]\n",
    "Xcorr = Xcorr.drop(columns=['SalePrice'])\n",
    "Y = housingData['SalePrice']"
   ]
  },
  {
   "cell_type": "markdown",
   "id": "f278a2d2",
   "metadata": {},
   "source": [
    "# Build Model"
   ]
  },
  {
   "cell_type": "code",
   "execution_count": 9,
   "id": "23ddd0a4",
   "metadata": {},
   "outputs": [],
   "source": [
    "grid = 10**np.linspace(-2,2,100)\n",
    "\n",
    "np.random.seed(0)\n",
    "\n",
    "train = np.random.choice([True, False], size=len(housingData))\n",
    "\n",
    "X_Train = Xcorr[train]\n",
    "Y_Train = Y[train]\n",
    "X_Test = Xcorr[~train]\n",
    "Y_Test = Y[~train]\n",
    "\n",
    "coeffecients = np.empty((len(grid), Xcorr.shape[1]))\n",
    "\n",
    "for index, alpha in enumerate(grid):\n",
    "    lasso = Lasso(alpha=alpha, normalize = True, max_iter=50000)\n",
    "    pipeline=Pipeline([('lasso', lasso)])\n",
    "    pipeline.fit(X_Train, Y_Train)\n",
    "    coeffecients[index] = lasso.coef_[np.newaxis]"
   ]
  },
  {
   "cell_type": "code",
   "execution_count": 10,
   "id": "7ab320f4",
   "metadata": {},
   "outputs": [
    {
     "data": {
      "text/plain": [
       "Text(0, 0.5, 'Lasso Coefficients')"
      ]
     },
     "execution_count": 10,
     "metadata": {},
     "output_type": "execute_result"
    },
    {
     "data": {
      "image/png": "[encoded data removed]",
      "text/plain": [
       "<Figure size 864x360 with 1 Axes>"
      ]
     },
     "metadata": {},
     "output_type": "display_data"
    }
   ],
   "source": [
    "fig, ax = plt.subplots(figsize =(12,5))\n",
    "\n",
    "ax.plot(grid, coeffecients, linewidth = 2)\n",
    "\n",
    "ax.set_xscale('log')\n",
    "ax.set_xlabel('alpha (log-scale)', fontsize =14)\n",
    "ax.set_ylabel('Lasso Coefficients', fontsize=14)\n",
    "\n"
   ]
  },
  {
   "cell_type": "code",
   "execution_count": 11,
   "id": "aeab9a15",
   "metadata": {},
   "outputs": [],
   "source": [
    "scores = list()\n",
    "np.random.seed(0)\n",
    "\n",
    "for alpha in grid:\n",
    "    lasso = Lasso(alpha=alpha, normalize=True, max_iter=50000)\n",
    "    \n",
    "    pipeline = Pipeline([('lasso', lasso)])\n",
    "    \n",
    "    thisScore = -cross_val_score(pipeline, Xcorr, Y, cv=10)\n",
    "    scores.append(np.mean(thisScore))"
   ]
  },
  {
   "cell_type": "code",
   "execution_count": 12,
   "id": "c929dc44",
   "metadata": {},
   "outputs": [
    {
     "name": "stdout",
     "output_type": "stream",
     "text": [
      "-0.8086133278585113\n",
      "14.174741629268063\n"
     ]
    },
    {
     "data": {
      "text/plain": [
       "Text(0.5, 0, 'alpha (Log-Scale)')"
      ]
     },
     "execution_count": 12,
     "metadata": {},
     "output_type": "execute_result"
    },
    {
     "data": {
      "image/png": "[encoded data removed]",
      "text/plain": [
       "<Figure size 576x432 with 1 Axes>"
      ]
     },
     "metadata": {},
     "output_type": "display_data"
    }
   ],
   "source": [
    "minIndex, minScore = min(enumerate(scores), key=itemgetter(1))\n",
    "print(minScore)\n",
    "print(grid[minIndex])\n",
    "\n",
    "fig,ax = plt.subplots(figsize=(8,6))\n",
    "\n",
    "ax.plot(grid,scores, color='b')\n",
    "ax.plot(grid[minIndex],minScore,marker='o', color='r',markersize=14)\n",
    "\n",
    "ax.set_xscale('log')\n",
    "ax.set_ylabel('CV Error')\n",
    "ax.set_xlabel('alpha (Log-Scale)')"
   ]
  },
  {
   "cell_type": "code",
   "execution_count": 13,
   "id": "b19c6b69",
   "metadata": {},
   "outputs": [
    {
     "data": {
      "text/plain": [
       "Intercept              -777406.741748\n",
       "OverallQual               9938.500225\n",
       "YearBuilt                  174.670113\n",
       "YearRemodAdd               206.906662\n",
       "MasVnrArea                  13.592872\n",
       "TotalBsmtSF                 29.489384\n",
       "1stFlrSF                     0.000000\n",
       "GrLivArea                   54.587148\n",
       "FullBath                     0.000000\n",
       "TotRmsAbvGrd                 0.000000\n",
       "Fireplaces                5646.150909\n",
       "GarageCars                   0.000000\n",
       "GarageArea                  29.320727\n",
       "Neighborhood_NridgHt         0.000000\n",
       "ExterQual_Ex             28216.190353\n",
       "ExterQual_Gd                 0.000000\n",
       "Foundation_PConc             0.000000\n",
       "BsmtQual_Ex              37372.160836\n",
       "BsmtFinType1_GLQ         11241.669757\n",
       "HeatingQC_Ex              3671.037452\n",
       "KitchenQual_Ex           27635.870033\n",
       "GarageFinish_Fin          2736.802475\n",
       "dtype: float64"
      ]
     },
     "execution_count": 13,
     "metadata": {},
     "output_type": "execute_result"
    }
   ],
   "source": [
    "lass = Lasso(alpha=grid[minIndex],normalize=True, max_iter=50000)\n",
    "lasso.fit(X_Train, Y_Train)\n",
    "\n",
    "mse = np.mean((lasso.predict(X_Test)-Y_Test)**2)\n",
    "df = pd.Series(data = np.hstack([lasso.intercept_,lasso.coef_]), index=['Intercept']+Xcorr.columns.tolist())\n",
    "df"
   ]
  },
  {
   "cell_type": "code",
   "execution_count": null,
   "id": "dabcc2db",
   "metadata": {},
   "outputs": [],
   "source": []
  },
  {
   "cell_type": "code",
   "execution_count": null,
   "id": "6fbddb9d",
   "metadata": {},
   "outputs": [],
   "source": []
  }
 ],
 "metadata": {
  "kernelspec": {
   "display_name": "Python 3",
   "language": "python",
   "name": "python3"
  },
  "language_info": {
   "codemirror_mode": {
    "name": "ipython",
    "version": 3
   },
   "file_extension": ".py",
   "mimetype": "text/x-python",
   "name": "python",
   "nbconvert_exporter": "python",
   "pygments_lexer": "ipython3",
   "version": "3.8.8"
  }
 },
 "nbformat": 4,
 "nbformat_minor": 5
}
