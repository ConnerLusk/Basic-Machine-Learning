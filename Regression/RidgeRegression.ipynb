{
 "cells": [
  {
   "cell_type": "markdown",
   "id": "7e0ddafa",
   "metadata": {},
   "source": [
    "# Import Libraries"
   ]
  },
  {
   "cell_type": "code",
   "execution_count": null,
   "id": "277989b9",
   "metadata": {},
   "outputs": [],
   "source": [
    "# perform standard imports\n",
    "import numpy as np\n",
    "import pandas as pd\n",
    "from sklearn.pipeline import Pipeline\n",
    "from sklearn.preprocessing import StandardScaler, scale\n",
    "from sklearn.linear_model import Ridge, RidgeCV, Lasso, LassoCV\n",
    "from sklearn.model_selection import cross_validate\n",
    "from sklearn.model_selection import KFold\n",
    "from sklearn.model_selection import cross_val_score\n",
    "from matplotlib import pyplot as plt\n",
    "from operator import itemgetter\n",
    "import seaborn as sns\n",
    "%matplotlib inline\n",
    "plt.style.use('ggplot') # emulate R's pretty plotting\n",
    "\n",
    "# print numpy arrays with precision 4\n",
    "#np.set_printoptions(precision=4)"
   ]
  },
  {
   "cell_type": "markdown",
   "id": "15e1c174",
   "metadata": {},
   "source": [
    "# Load Data"
   ]
  },
  {
   "cell_type": "code",
   "execution_count": null,
   "id": "efb61afe",
   "metadata": {},
   "outputs": [],
   "source": [
    "#chnages all nan to 0's\n",
    "housingData = pd.read_csv(\"Amestrain.csv\", error_bad_lines=False).fillna(0)\n",
    "numericalData = housingData.select_dtypes(include=['int64','float64'])\n",
    "numericalHeaders = list(numericalData)\n",
    "nonNumericalData = housingData.drop(numericalHeaders, axis=1)\n",
    "nonNumericalDataHeaders = list(nonNumericalData)\n",
    "dummies = pd.get_dummies(housingData[nonNumericalDataHeaders])\n",
    "housingData = housingData.drop(nonNumericalData, axis=1)\n",
    "housingData = pd.concat([housingData,dummies],axis=1)\n",
    "housingData"
   ]
  },
  {
   "cell_type": "markdown",
   "id": "403bd36d",
   "metadata": {},
   "source": [
    "# Correlation"
   ]
  },
  {
   "cell_type": "code",
   "execution_count": null,
   "id": "de7a9d50",
   "metadata": {},
   "outputs": [],
   "source": [
    "correlationMatrix = housingData.corr()\n",
    "priceCorrelation = correlationMatrix['SalePrice']\n",
    "# Gathering terms with correlation greater than .4\n",
    "filtCorr = priceCorrelation > .4\n",
    "filtData = priceCorrelation[filtCorr]"
   ]
  },
  {
   "cell_type": "code",
   "execution_count": null,
   "id": "b1e8cc85",
   "metadata": {},
   "outputs": [],
   "source": [
    "#get list of items\n",
    "corrData = []\n",
    "for row in filtData.index:\n",
    "    corrData.append(row)\n",
    "    \n",
    "# create data frame with correlated data\n",
    "Xcorr = housingData[corrData]\n",
    "Xcorr = Xcorr.drop(columns=['SalePrice'])"
   ]
  },
  {
   "cell_type": "markdown",
   "id": "ed8f68b4",
   "metadata": {},
   "source": [
    "# Build Model"
   ]
  },
  {
   "cell_type": "code",
   "execution_count": null,
   "id": "b6aa480a",
   "metadata": {},
   "outputs": [],
   "source": [
    "#Seperates what we want to predict from features\n",
    "X = housingData.drop(columns=['SalePrice'])\n",
    "Y = housingData['SalePrice']\n",
    "\n",
    "#creates empty list for regressions\n",
    "regression = []\n",
    "\n",
    "#creates array of alpha values\n",
    "alphas = 10**np.linspace(-4,4,200)\n",
    "\n",
    "#build model\n",
    "for index, alpha in enumerate(alphas):\n",
    "    model = Ridge(alpha=alpha, normalize=True, fit_intercept=True)\n",
    "    regression = np.append(regression, model.fit(Xcorr,Y))"
   ]
  },
  {
   "cell_type": "markdown",
   "id": "dbfabcc7",
   "metadata": {},
   "source": [
    "# Plotting Regression Coefficients vs. Ridge Penalty "
   ]
  },
  {
   "cell_type": "code",
   "execution_count": null,
   "id": "78c45110",
   "metadata": {},
   "outputs": [],
   "source": [
    "ridge_coef = np.empty((len(alphas), Xcorr.shape[1]))\n",
    "\n",
    "# Extract ridge coefficients\n",
    "for index, model in enumerate(regression):\n",
    "    ridge_coef[index] = model.coef_[np.newaxis]\n",
    "    \n",
    "\n",
    "# Make plot\n",
    "fig, ax = plt.subplots(figsize=(14,7))\n",
    "ax.plot(alphas,ridge_coef,linewidth=1.5);\n",
    "ax.set_xscale('log')\n",
    "ax.set_xlabel('Alpha (log-scale)',fontsize=13)\n",
    "ax.set_ylabel('Ridge Coefficient', fontsize = 13)\n",
    "ax.set_title('Correlated Features', fontsize = 18)"
   ]
  },
  {
   "cell_type": "markdown",
   "id": "8f85190d",
   "metadata": {},
   "source": [
    "# Cross Validation to determine best alpha"
   ]
  },
  {
   "cell_type": "code",
   "execution_count": null,
   "id": "d02a8b61",
   "metadata": {},
   "outputs": [],
   "source": [
    "np.random.seed(0)\n",
    "# split data into a train and validation set of equal sizes\n",
    "train = np.random.choice([True, False], size = len(housingData))\n",
    "\n",
    "X_train = Xcorr[train]\n",
    "Y_train = Y[train]\n",
    "Y_test = Y[~train]\n",
    "X_test = Xcorr[~train]"
   ]
  },
  {
   "cell_type": "code",
   "execution_count": null,
   "id": "2384ef28",
   "metadata": {},
   "outputs": [],
   "source": [
    "# construct training and test folds\n",
    "kf = KFold(n_splits=10)\n",
    "kf.get_n_splits(Xcorr)"
   ]
  },
  {
   "cell_type": "code",
   "execution_count": null,
   "id": "8f2b3620",
   "metadata": {},
   "outputs": [],
   "source": [
    "cvs = []\n",
    "\n",
    "for alpha in alphas:\n",
    "    error = []\n",
    "    \n",
    "    for train, test in kf.split(X):\n",
    "        X_train = Xcorr.values[train]\n",
    "        Y_train = Y.values[train]\n",
    "        X_test = Xcorr.values[test]\n",
    "        Y_test = Y.values[test]\n",
    "        \n",
    "        model = Ridge(alpha=alpha, normalize = True).fit(X_train,Y_train)\n",
    "        \n",
    "        error = np.append(error, (model.predict(X_test)-Y_test))\n",
    "        \n",
    "    cvs = np.append(cvs, np.mean(error**2))\n",
    "    \n",
    "#find minimum alpha\n",
    "min_index, min_cvs = min(enumerate(cvs), key=itemgetter(1))"
   ]
  },
  {
   "cell_type": "code",
   "execution_count": null,
   "id": "3f30ef53",
   "metadata": {},
   "outputs": [],
   "source": [
    "#make plot\n",
    "fig,ax = plt.subplots(figsize=(8,6))\n",
    "\n",
    "ax.plot(alphas, cvs, color=\"b\")\n",
    "ax.plot(alphas[min_index],min_cvs, marker= \"o\", color='r',markersize=12)\n",
    "\n",
    "ax.set_xscale('log')\n",
    "ax.set_ylabel('CV Error', fontsize=13)\n",
    "ax.set_xlabel('alpha', fontsize = 13)"
   ]
  },
  {
   "cell_type": "markdown",
   "id": "2de626c0",
   "metadata": {},
   "source": [
    "# Find Coefficient Matrix"
   ]
  },
  {
   "cell_type": "code",
   "execution_count": null,
   "id": "fe9029e9",
   "metadata": {},
   "outputs": [],
   "source": [
    "regression = Ridge(alpha=alphas[min_index], normalize = True).fit(Xcorr,Y)\n",
    "coefficients = pd.Series(data = np.hstack([regression.intercept_,regression.coef_]), index = ['Intercept'] + Xcorr.columns.tolist())\n",
    "coefficients"
   ]
  },
  {
   "cell_type": "code",
   "execution_count": null,
   "id": "513971f7",
   "metadata": {},
   "outputs": [],
   "source": [
    "grid = 10**np.linspace(-4,2,100)\n",
    "\n",
    "np.random.seed(0)\n",
    "\n",
    "train = np.random.choice([True, False], size=len(housingData))\n",
    "\n",
    "X_Train = X[train]\n",
    "Y_Train = Y[train]\n",
    "X_Test = X[~train]\n",
    "Y_Test = Y[~train]\n",
    "\n",
    "coeffecients = np.empty((len(grid), X.shape[1]))\n",
    "\n",
    "for index, alpha in enumerate(grid):\n",
    "    lasso = Lasso(alpha=alpha, normalize = True, max_iter=50000)\n",
    "    pipeline=Pipeline([('lasso', lasso)])\n",
    "    pipeline.fit(X_Train, Y_Train)\n",
    "    coeffecients[index] = lasso.coef_[np.newaxis]\n",
    "coeffecients"
   ]
  },
  {
   "cell_type": "code",
   "execution_count": null,
   "id": "0a7004d2",
   "metadata": {},
   "outputs": [],
   "source": [
    "fig, ax = plt.subplots(figsize =(12,5))\n",
    "\n",
    "ax.plot(grid, coeffecients, linewidth = 2)\n",
    "\n",
    "ax.set_xscale('log')\n",
    "ax.set_xlabel('alpha (log-scale)', fontsize =14)\n",
    "ax.set_ylabel('Lasso Coefficients', fontsize=14)\n"
   ]
  }
 ],
 "metadata": {
  "kernelspec": {
   "display_name": "Python 3",
   "language": "python",
   "name": "python3"
  },
  "language_info": {
   "codemirror_mode": {
    "name": "ipython",
    "version": 3
   },
   "file_extension": ".py",
   "mimetype": "text/x-python",
   "name": "python",
   "nbconvert_exporter": "python",
   "pygments_lexer": "ipython3",
   "version": "3.8.8"
  }
 },
 "nbformat": 4,
 "nbformat_minor": 5
}
